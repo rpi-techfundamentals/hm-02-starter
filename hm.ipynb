{
  "nbformat": 4,
  "nbformat_minor": 0,
  "metadata": {
    "anaconda-cloud": {},
    "celltoolbar": "Slideshow",
    "kernelspec": {
      "display_name": "Python 3",
      "language": "python",
      "name": "python3"
    },
    "language_info": {
      "codemirror_mode": {
        "name": "ipython",
        "version": 3
      },
      "file_extension": ".py",
      "mimetype": "text/x-python",
      "name": "python",
      "nbconvert_exporter": "python",
      "pygments_lexer": "ipython3",
      "version": "3.6.9"
    },
    "colab": {
      "name": "hm.ipynb",
      "version": "0.3.2",
      "provenance": [],
      "include_colab_link": true
    }
  },
  "cells": [
    {
      "cell_type": "markdown",
      "metadata": {
        "id": "view-in-github",
        "colab_type": "text"
      },
      "source": [
        "<a href=\"https://colab.research.google.com/github/rpi-techfundamentals/hm-02-starter/blob/master/hm.ipynb\" target=\"_parent\"><img src=\"https://colab.research.google.com/assets/colab-badge.svg\" alt=\"Open In Colab\"/></a>"
      ]
    },
    {
      "cell_type": "markdown",
      "metadata": {
        "id": "sAf3Gsm5velW",
        "colab_type": "text"
      },
      "source": [
        "## Introduction to Python Exercises\n",
        "\n",
        "![](https://github.com/rpi-techfundamentals/hm-01-starter/blob/master/notsaved.png?raw=1)\n",
        "\n",
        "**WARNING!!!  If you see this icon on the top of your COLAB sesssion, your work is not saved automatically.**\n",
        "\n",
        "**Save your working file in Google drive so that all changes will be saved as you work. MAKE SURE that your final version is saved to GitHub.** \n",
        "\n",
        "Before you turn this in, make sure everything runs as expected. First, restart the kernel (in the menu, select Kernel → Restart) and then run all cells (in the menubar, select Cell → Run All).  You can speak with others regarding the assignment but all work must be your own. \n",
        "\n",
        "\n",
        "### This is a 30 point assignment.\n",
        "\n",
        "**You may find it useful to go through the notebooks from the course materials when doing these exercises.**"
      ]
    },
    {
      "cell_type": "code",
      "metadata": {
        "id": "ziN7lGGlvela",
        "colab_type": "code",
        "colab": {}
      },
      "source": [
        "files = \"https://github.com/rpi-techfundamentals/hm-02-starter/raw/master/files.zip\"\n",
        "!pip install git+https://github.com/data-8/Gofer-Grader && wget $files && unzip -o files.zip"
      ],
      "execution_count": 0,
      "outputs": []
    },
    {
      "cell_type": "code",
      "metadata": {
        "id": "AdVbmM-tveli",
        "colab_type": "code",
        "colab": {}
      },
      "source": [
        "#This loads the grading software.  If you later get a \"failed to import OK.py\" you need to rerun.\n",
        "from client.api.notebook import Notebook\n",
        "ok = Notebook('hm02.ok')\n",
        "_ = ok.auth(inline=True)"
      ],
      "execution_count": 0,
      "outputs": []
    },
    {
      "cell_type": "markdown",
      "metadata": {
        "id": "qYPrsI-nvemo",
        "colab_type": "text"
      },
      "source": [
        "**If you attempt to fake passing the tests you will receive a 0 on the assignment and it will be considered an ethical violation.**"
      ]
    },
    {
      "cell_type": "markdown",
      "metadata": {
        "id": "3mHHPuQOvemq",
        "colab_type": "text"
      },
      "source": [
        "## Exercise-Packages\n",
        "\n",
        "This creates an Numpy array. Numpy is a common package that we will use to work with arrays. You can read more about Numpy [here](http://www.numpy.org/). \n",
        "\n",
        "```\n",
        "a = np.array([2,3,4])\n",
        "print(a)\n",
        "```\n",
        "\n",
        "To get this to work, you will have to make sure that the numpy(np) package is installed. \n",
        "\n",
        "(1) Verify that Numpy is installed. How did you know?  \n",
        "Describe how you would you install it if it wasn't installed?\n"
      ]
    },
    {
      "cell_type": "code",
      "metadata": {
        "id": "9SRVAJkUvemt",
        "colab_type": "code",
        "colab": {}
      },
      "source": [
        "\"\"\"\n",
        "#You must assign your answer to q1. \n",
        "man1=\"\"\"\n",
        "Enter your answer here.\n",
        "\"\"\""
      ],
      "execution_count": 0,
      "outputs": []
    },
    {
      "cell_type": "markdown",
      "metadata": {
        "id": "zeDVp2Sivemw",
        "colab_type": "text"
      },
      "source": [
        "(2) Fix the cell below so that `a` is a `numpy` array."
      ]
    },
    {
      "cell_type": "code",
      "metadata": {
        "id": "Sei-Ye83vemx",
        "colab_type": "code",
        "colab": {}
      },
      "source": [
        "#Fix this code of q2. \n",
        "a = [5,6,7,8]\n",
        "print(a, type(a))\n"
      ],
      "execution_count": 0,
      "outputs": []
    },
    {
      "cell_type": "code",
      "metadata": {
        "id": "U8SBYHzCvenG",
        "colab_type": "code",
        "colab": {}
      },
      "source": [
        "_ = ok.grade('q02')"
      ],
      "execution_count": 0,
      "outputs": []
    },
    {
      "cell_type": "markdown",
      "metadata": {
        "id": "JPQJGf-4venI",
        "colab_type": "text"
      },
      "source": [
        "(3) Create a numpy array `b` with the values `12, 13, 14, 15`.\n",
        "\n"
      ]
    },
    {
      "cell_type": "code",
      "metadata": {
        "id": "ZCnMrkR7venI",
        "colab_type": "code",
        "colab": {}
      },
      "source": [
        "#<insert q3 code here>\n",
        "\n"
      ],
      "execution_count": 0,
      "outputs": []
    },
    {
      "cell_type": "code",
      "metadata": {
        "id": "zR8TxGqIvenQ",
        "colab_type": "code",
        "colab": {}
      },
      "source": [
        "_ = ok.grade('q03')"
      ],
      "execution_count": 0,
      "outputs": []
    },
    {
      "cell_type": "markdown",
      "metadata": {
        "id": "mw3XWpwLvend",
        "colab_type": "text"
      },
      "source": [
        "## Exercise - Operations on Variables\n",
        "\n",
        "(4) Describe what happens when you multiply an integer times a boolean? \n",
        "What is the resulting type? Provide examples.\n"
      ]
    },
    {
      "cell_type": "code",
      "metadata": {
        "id": "tE8mUzMDvend",
        "colab_type": "code",
        "colab": {}
      },
      "source": [
        "#You must assign your answer to q4_answer. \n",
        "man4=\"\"\"\n",
        "Enter your answer here.\n",
        "\"\"\""
      ],
      "execution_count": 0,
      "outputs": []
    },
    {
      "cell_type": "markdown",
      "metadata": {
        "id": "GYgxT58dvenf",
        "colab_type": "text"
      },
      "source": [
        "(5) Describe happens when you try to multiply an integer value times a null?"
      ]
    },
    {
      "cell_type": "code",
      "metadata": {
        "id": "q3-_3HZbveng",
        "colab_type": "code",
        "colab": {}
      },
      "source": [
        "man5=\"\"\"\n",
        "Enter your answer here.\n",
        "\"\"\"\n"
      ],
      "execution_count": 0,
      "outputs": []
    },
    {
      "cell_type": "markdown",
      "metadata": {
        "id": "mmJfgNELvenh",
        "colab_type": "text"
      },
      "source": [
        "(6) Take 5 to the power of 4 and assign it to a variable `c`. Then transform the variable `c` to a type `float`. "
      ]
    },
    {
      "cell_type": "code",
      "metadata": {
        "id": "rCKk0Jleveni",
        "colab_type": "code",
        "colab": {}
      },
      "source": [
        "#<insert q6 code here>"
      ],
      "execution_count": 0,
      "outputs": []
    },
    {
      "cell_type": "code",
      "metadata": {
        "id": "KF0GNcPCvenk",
        "colab_type": "code",
        "colab": {}
      },
      "source": [
        "_ = ok.grade('q06')"
      ],
      "execution_count": 0,
      "outputs": []
    },
    {
      "cell_type": "markdown",
      "metadata": {
        "id": "BUuwcdISvenl",
        "colab_type": "text"
      },
      "source": [
        "## Exercise-Lists\n",
        "Hint: [This link is useful.](https://docs.python.org/3/tutorial/datastructures.html#more-on-lists) as is the process of tab completion (using tab to find available methods of an object).\n",
        "\n",
        "(7) Create a list `elist1` with the following values `1,2,3,4,5`.<br>\n"
      ]
    },
    {
      "cell_type": "code",
      "metadata": {
        "id": "Ez-K3n65venl",
        "colab_type": "code",
        "colab": {}
      },
      "source": [
        "#<insert q7 code here>\n"
      ],
      "execution_count": 0,
      "outputs": []
    },
    {
      "cell_type": "code",
      "metadata": {
        "id": "IC0OKhjFvenn",
        "colab_type": "code",
        "colab": {}
      },
      "source": [
        "_ = ok.grade('q07')"
      ],
      "execution_count": 0,
      "outputs": []
    },
    {
      "cell_type": "markdown",
      "metadata": {
        "id": "RlyO4sm0venp",
        "colab_type": "text"
      },
      "source": [
        "(8) Create a new list `elist2` by first creating a copy of `elist1` and then reversing the order.\n",
        "\n",
        "*HINT, remember there is a specific function to copy a list.* \n"
      ]
    },
    {
      "cell_type": "code",
      "metadata": {
        "id": "NH7kHN_xvenq",
        "colab_type": "code",
        "colab": {}
      },
      "source": [
        "#<insert q8 code here>\n"
      ],
      "execution_count": 0,
      "outputs": []
    },
    {
      "cell_type": "code",
      "metadata": {
        "id": "U_AjuZaSvenr",
        "colab_type": "code",
        "colab": {}
      },
      "source": [
        "_ = ok.grade('q08')"
      ],
      "execution_count": 0,
      "outputs": []
    },
    {
      "cell_type": "markdown",
      "metadata": {
        "id": "mZS4sc4Zvenu",
        "colab_type": "text"
      },
      "source": [
        "(9) Create a new list `elist3` by first creating a copy of `elist1` and then adding `7, 8, 9` to the end. (Hint: Search for a different function if appending doesn't work.) "
      ]
    },
    {
      "cell_type": "code",
      "metadata": {
        "id": "qOM-WIoEvenu",
        "colab_type": "code",
        "colab": {}
      },
      "source": [
        "#<insert q9 code here>\n"
      ],
      "execution_count": 0,
      "outputs": []
    },
    {
      "cell_type": "code",
      "metadata": {
        "id": "3oHqLKmsvenw",
        "colab_type": "code",
        "colab": {}
      },
      "source": [
        "_ = ok.grade('q09')"
      ],
      "execution_count": 0,
      "outputs": []
    },
    {
      "cell_type": "markdown",
      "metadata": {
        "id": "IyrzEdqTven2",
        "colab_type": "text"
      },
      "source": [
        "(10) Create a new list `elist4` by first creating a copy of `elist3` and then insert `6` between `5` and `7`."
      ]
    },
    {
      "cell_type": "code",
      "metadata": {
        "id": "gFgUlCpeven3",
        "colab_type": "code",
        "colab": {}
      },
      "source": [
        "#<insert q10 code here>\n"
      ],
      "execution_count": 0,
      "outputs": []
    },
    {
      "cell_type": "code",
      "metadata": {
        "id": "8WLUG12Iven5",
        "colab_type": "code",
        "colab": {}
      },
      "source": [
        "_ = ok.grade('q10')"
      ],
      "execution_count": 0,
      "outputs": []
    },
    {
      "cell_type": "markdown",
      "metadata": {
        "id": "rw6Sh0gWven7",
        "colab_type": "text"
      },
      "source": [
        "## Exercise-Sets/Dictionary\n",
        "\n",
        "This [link to documentation on sets](https://docs.python.org/3/tutorial/datastructures.html#sets) may be useful.\n",
        "\n",
        "(11) Create a set `eset1` with the following values (1,2,3,4,5).\n"
      ]
    },
    {
      "cell_type": "code",
      "metadata": {
        "id": "mte4CjMRven7",
        "colab_type": "code",
        "colab": {}
      },
      "source": [
        "#<insert q11 code here>\n"
      ],
      "execution_count": 0,
      "outputs": []
    },
    {
      "cell_type": "code",
      "metadata": {
        "id": "ATousioRven-",
        "colab_type": "code",
        "colab": {}
      },
      "source": [
        "_ = ok.grade('q11')"
      ],
      "execution_count": 0,
      "outputs": []
    },
    {
      "cell_type": "markdown",
      "metadata": {
        "id": "jRJFjKF8veoB",
        "colab_type": "text"
      },
      "source": [
        "\n",
        "(12) Create a new set `eset2` the following values (1,3,6).\n",
        "\n"
      ]
    },
    {
      "cell_type": "code",
      "metadata": {
        "id": "gBMvn0lBveoC",
        "colab_type": "code",
        "colab": {}
      },
      "source": [
        "#<insert q12 code here>\n"
      ],
      "execution_count": 0,
      "outputs": []
    },
    {
      "cell_type": "code",
      "metadata": {
        "id": "gxis27MfveoI",
        "colab_type": "code",
        "colab": {}
      },
      "source": [
        "_ = ok.grade('q12')"
      ],
      "execution_count": 0,
      "outputs": []
    },
    {
      "cell_type": "markdown",
      "metadata": {
        "id": "PJo2iKx5veoP",
        "colab_type": "text"
      },
      "source": [
        "(13) Create a new set `eset3` that is `eset1-eset2`.\n",
        "\n"
      ]
    },
    {
      "cell_type": "code",
      "metadata": {
        "id": "-MWFYYgzveoQ",
        "colab_type": "code",
        "colab": {}
      },
      "source": [
        "#<insert q13 code here>"
      ],
      "execution_count": 0,
      "outputs": []
    },
    {
      "cell_type": "code",
      "metadata": {
        "id": "NFEbonxWveoS",
        "colab_type": "code",
        "colab": {}
      },
      "source": [
        "_ = ok.grade('q13')"
      ],
      "execution_count": 0,
      "outputs": []
    },
    {
      "cell_type": "markdown",
      "metadata": {
        "id": "WvXjhLl6veoW",
        "colab_type": "text"
      },
      "source": [
        "(14) Create a new set `eset4` that is the union of `eset1+eset2`.\n"
      ]
    },
    {
      "cell_type": "code",
      "metadata": {
        "id": "R3OgsaWmveoX",
        "colab_type": "code",
        "colab": {}
      },
      "source": [
        "#<insert q14 code here>"
      ],
      "execution_count": 0,
      "outputs": []
    },
    {
      "cell_type": "code",
      "metadata": {
        "id": "Pu77neIrveoZ",
        "colab_type": "code",
        "colab": {}
      },
      "source": [
        "_ = ok.grade('q14')"
      ],
      "execution_count": 0,
      "outputs": []
    },
    {
      "cell_type": "markdown",
      "metadata": {
        "id": "_gKiO2weveob",
        "colab_type": "text"
      },
      "source": [
        "\n",
        "(15) Create a new set `eset5` that includes values that are in both `eset1` and `eset2` (intersection).\n",
        "\n"
      ]
    },
    {
      "cell_type": "code",
      "metadata": {
        "id": "-vehzEgxveoc",
        "colab_type": "code",
        "colab": {}
      },
      "source": [
        "#<insert q15 code here>"
      ],
      "execution_count": 0,
      "outputs": []
    },
    {
      "cell_type": "code",
      "metadata": {
        "id": "-oR1AM5Sveoe",
        "colab_type": "code",
        "colab": {}
      },
      "source": [
        "_ = ok.grade('q15')"
      ],
      "execution_count": 0,
      "outputs": []
    },
    {
      "cell_type": "markdown",
      "metadata": {
        "id": "O77S6aEvveof",
        "colab_type": "text"
      },
      "source": [
        "(16) Create a new dict `edict1` with the following keys and associated values: st1=45; st2=32; st3=40; st4=31.\n",
        "\n",
        "*Hint: There is a good section on dictionaries [here](https://docs.python.org/3/tutorial/datastructures.html#dictionaries).\n"
      ]
    },
    {
      "cell_type": "code",
      "metadata": {
        "id": "dALoqnlmveog",
        "colab_type": "code",
        "colab": {}
      },
      "source": [
        "#<insert q16 code here>\n"
      ],
      "execution_count": 0,
      "outputs": []
    },
    {
      "cell_type": "code",
      "metadata": {
        "id": "iTa-j24Cveok",
        "colab_type": "code",
        "colab": {}
      },
      "source": [
        "_ = ok.grade('q16')"
      ],
      "execution_count": 0,
      "outputs": []
    },
    {
      "cell_type": "markdown",
      "metadata": {
        "id": "DPUG_c91veol",
        "colab_type": "text"
      },
      "source": [
        "\n",
        "(17) Create a new variable `key1` from edict1 where the *key* is `st3`."
      ]
    },
    {
      "cell_type": "code",
      "metadata": {
        "id": "57DB91zWveom",
        "colab_type": "code",
        "colab": {}
      },
      "source": [
        "#<insert q17 code here>"
      ],
      "execution_count": 0,
      "outputs": []
    },
    {
      "cell_type": "code",
      "metadata": {
        "id": "SI0poMQbveoo",
        "colab_type": "code",
        "colab": {}
      },
      "source": [
        "_ = ok.grade('q17')"
      ],
      "execution_count": 0,
      "outputs": []
    },
    {
      "cell_type": "markdown",
      "metadata": {
        "id": "WCTH_R82veou",
        "colab_type": "text"
      },
      "source": [
        "# Exercise-Numpy Array\n",
        "\n",
        "(18) Create a new numpy array `nparray1` that is 3x3 and all the number 3 (should be integer type).\n",
        "\n"
      ]
    },
    {
      "cell_type": "code",
      "metadata": {
        "id": "qP9SkH5Dveou",
        "colab_type": "code",
        "colab": {}
      },
      "source": [
        "#<insert q18 code here>\n"
      ],
      "execution_count": 0,
      "outputs": []
    },
    {
      "cell_type": "code",
      "metadata": {
        "id": "e5KhrEPPveoy",
        "colab_type": "code",
        "colab": {}
      },
      "source": [
        "_ = ok.grade('q18')"
      ],
      "execution_count": 0,
      "outputs": []
    },
    {
      "cell_type": "markdown",
      "metadata": {
        "id": "WIGePWRzveo0",
        "colab_type": "text"
      },
      "source": [
        "\n",
        "(19) Create a new variable `nparray1sum` that sums all of column 0.\n"
      ]
    },
    {
      "cell_type": "code",
      "metadata": {
        "id": "YszPYNJXveo1",
        "colab_type": "code",
        "colab": {}
      },
      "source": [
        "#<insert q19 code here>"
      ],
      "execution_count": 0,
      "outputs": []
    },
    {
      "cell_type": "code",
      "metadata": {
        "id": "PStOnlUqveo3",
        "colab_type": "code",
        "colab": {}
      },
      "source": [
        "_ = ok.grade('q19')"
      ],
      "execution_count": 0,
      "outputs": []
    },
    {
      "cell_type": "markdown",
      "metadata": {
        "id": "ewCdbT57veo6",
        "colab_type": "text"
      },
      "source": [
        "(20) Create a new variable `nparray1mean` that takes the average of column 0.\n"
      ]
    },
    {
      "cell_type": "code",
      "metadata": {
        "id": "kWYaDvQcveo7",
        "colab_type": "code",
        "colab": {}
      },
      "source": [
        "#<insert q20 code here>\n"
      ],
      "execution_count": 0,
      "outputs": []
    },
    {
      "cell_type": "code",
      "metadata": {
        "id": "oglCgM9Sveo8",
        "colab_type": "code",
        "colab": {}
      },
      "source": [
        "_ = ok.grade('q20')"
      ],
      "execution_count": 0,
      "outputs": []
    },
    {
      "cell_type": "markdown",
      "metadata": {
        "id": "hPwkZIFjvepK",
        "colab_type": "text"
      },
      "source": [
        "(21) Create a new numpy array `nparray2` that selects only column 1 of `nparray1` (all rows).\n"
      ]
    },
    {
      "cell_type": "code",
      "metadata": {
        "id": "_u87TQAWvepM",
        "colab_type": "code",
        "colab": {}
      },
      "source": [
        "#<insert q21 code here>\n"
      ],
      "execution_count": 0,
      "outputs": []
    },
    {
      "cell_type": "code",
      "metadata": {
        "id": "AaITgUOdvepP",
        "colab_type": "code",
        "colab": {}
      },
      "source": [
        "_ = ok.grade('q21')"
      ],
      "execution_count": 0,
      "outputs": []
    },
    {
      "cell_type": "markdown",
      "metadata": {
        "id": "DB3DOnfJvepR",
        "colab_type": "text"
      },
      "source": [
        "(22) Create a new numpy array `nparray3` that is equal to `nparray1` times `2` (you should not alter `nparray1`).\n"
      ]
    },
    {
      "cell_type": "code",
      "metadata": {
        "id": "nh46rOKIvepR",
        "colab_type": "code",
        "colab": {}
      },
      "source": [
        "#<insert q22 code here>\n"
      ],
      "execution_count": 0,
      "outputs": []
    },
    {
      "cell_type": "code",
      "metadata": {
        "id": "QqoCpcgGvepT",
        "colab_type": "code",
        "colab": {}
      },
      "source": [
        "_ = ok.grade('q22')"
      ],
      "execution_count": 0,
      "outputs": []
    },
    {
      "cell_type": "markdown",
      "metadata": {
        "id": "AcHYqDoJvepW",
        "colab_type": "text"
      },
      "source": [
        "(23) Create a new numpy array nparray4 that is a verticle stack of `nparray1` and `nparray3`."
      ]
    },
    {
      "cell_type": "code",
      "metadata": {
        "id": "UIdFzHX2vepW",
        "colab_type": "code",
        "colab": {}
      },
      "source": [
        "#<insert q23 code here>\n"
      ],
      "execution_count": 0,
      "outputs": []
    },
    {
      "cell_type": "code",
      "metadata": {
        "id": "fRdhG2Qlvepg",
        "colab_type": "code",
        "colab": {}
      },
      "source": [
        "_ = ok.grade('q23')"
      ],
      "execution_count": 0,
      "outputs": []
    },
    {
      "cell_type": "markdown",
      "metadata": {
        "id": "ezfqNhP7vepj",
        "colab_type": "text"
      },
      "source": [
        "## Exercise-Pandas\n",
        "\n",
        "For these you will need to import the iris dataset. You should find the file `iris.csv` in the main directory.  \n",
        "\n",
        "While we showed 2 ways of importing a csv, you should use the `read_csv` method of Pandas to load the csv into a dataframe called `df`. \n"
      ]
    },
    {
      "cell_type": "code",
      "metadata": {
        "id": "vV8phxSrvepm",
        "colab_type": "code",
        "colab": {}
      },
      "source": [
        "#Load iris.csv into a Pandas dataframe df here.\n",
        "#Check out the first few rows with the head command. \n"
      ],
      "execution_count": 0,
      "outputs": []
    },
    {
      "cell_type": "markdown",
      "metadata": {
        "id": "9a38atU5vepo",
        "colab_type": "text"
      },
      "source": [
        "(24) Create a variable `df_rows` that includes the number of rows in the `df` dataframe."
      ]
    },
    {
      "cell_type": "code",
      "metadata": {
        "id": "aHJFJBLwvepo",
        "colab_type": "code",
        "colab": {}
      },
      "source": [
        "#<insert q24 code here>"
      ],
      "execution_count": 0,
      "outputs": []
    },
    {
      "cell_type": "code",
      "metadata": {
        "id": "ocyOMCMcvepr",
        "colab_type": "code",
        "colab": {}
      },
      "source": [
        "_ = ok.grade('q24')"
      ],
      "execution_count": 0,
      "outputs": []
    },
    {
      "cell_type": "markdown",
      "metadata": {
        "id": "5HIEmJJ7vept",
        "colab_type": "text"
      },
      "source": [
        "(25) Create a new dataframe `df_train` that includes the first half of the `df` dataframe. Create a new dataframe `df_test` that includes the second half. "
      ]
    },
    {
      "cell_type": "code",
      "metadata": {
        "id": "m94FHotyvepu",
        "colab_type": "code",
        "colab": {}
      },
      "source": [
        "#<insert q25 code here>\n"
      ],
      "execution_count": 0,
      "outputs": []
    },
    {
      "cell_type": "code",
      "metadata": {
        "id": "hxI3G7FZvepv",
        "colab_type": "code",
        "colab": {}
      },
      "source": [
        "_ = ok.grade('q25')"
      ],
      "execution_count": 0,
      "outputs": []
    },
    {
      "cell_type": "markdown",
      "metadata": {
        "id": "zEAb8ANfvepw",
        "colab_type": "text"
      },
      "source": [
        "(26) Create a new Pandas Series `sepal_length` from the `sepal_length` column of the df dataframe."
      ]
    },
    {
      "cell_type": "code",
      "metadata": {
        "id": "esdxPPVRvepw",
        "colab_type": "code",
        "colab": {}
      },
      "source": [
        "#<insert q26 code here>\n"
      ],
      "execution_count": 0,
      "outputs": []
    },
    {
      "cell_type": "code",
      "metadata": {
        "id": "QDepO9byvepx",
        "colab_type": "code",
        "colab": {}
      },
      "source": [
        "_ = ok.grade('q26')"
      ],
      "execution_count": 0,
      "outputs": []
    },
    {
      "cell_type": "markdown",
      "metadata": {
        "id": "o_werxT-veqZ",
        "colab_type": "text"
      },
      "source": [
        "\n",
        "(24) Using, the Iris dataset, find the mean of the `sepal_length` series in our sample and assign it to the `sepal_length_mean` variable. You should round the result to 3 digits after the decimal. \n",
        "\n",
        "```\n",
        "#Round example\n",
        "a=99.9999999999999\n",
        "#For example, the following will round a to 2 digits.\n",
        "b = round(a,2)   \n",
        "\n",
        "```"
      ]
    },
    {
      "cell_type": "code",
      "metadata": {
        "id": "saURdNtTveqZ",
        "colab_type": "code",
        "colab": {}
      },
      "source": [
        "#<insert q27 code here>\n"
      ],
      "execution_count": 0,
      "outputs": []
    },
    {
      "cell_type": "code",
      "metadata": {
        "id": "Iof0VHXhveqa",
        "colab_type": "code",
        "colab": {}
      },
      "source": [
        "_ = ok.grade('q27')"
      ],
      "execution_count": 0,
      "outputs": []
    },
    {
      "cell_type": "markdown",
      "metadata": {
        "id": "olb4NJhXveqg",
        "colab_type": "text"
      },
      "source": [
        "## Enter your Information\n",
        "Enter your information.  This will run all tests to make sure that the assignment is complete. "
      ]
    },
    {
      "cell_type": "code",
      "metadata": {
        "id": "qEOFiseYveqh",
        "colab_type": "code",
        "colab": {}
      },
      "source": [
        "course=\"mgmt6560\"   #course number\n",
        "section=\"\"          #section \n",
        "first_name=\"\"   #For example, \"jason\"\n",
        "last_name=\"\"    #For example, \"kuruzovich\"\n",
        "student_id=\"\"       #for example \"kuruzj\"\n",
        "student_email=\"\"    #for example \"kuruzj@rpi.edu\"\n",
        "collaborators = \"\"  #You can speak with others regarding the assignment, but all typed work must be your own."
      ],
      "execution_count": 0,
      "outputs": []
    },
    {
      "cell_type": "code",
      "metadata": {
        "id": "XAFY3Ibsveqi",
        "colab_type": "code",
        "colab": {}
      },
      "source": [
        "#This runs all tests. \n",
        "import os\n",
        "_ = [ok.grade(q[:-3]) for q in os.listdir(\"tests\") if q.startswith('q')]"
      ],
      "execution_count": 0,
      "outputs": []
    }
  ]
}