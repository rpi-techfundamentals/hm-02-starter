{
 "cells": [
  {
   "cell_type": "markdown",
   "metadata": {},
   "source": [
    "## Introduction to Python Exercises\n",
    "\n",
    "Before you turn this problem in, make sure everything runs as expected. First, restart the kernel (in the menubar, select Kernel → Restart) and then run all cells (in the menubar, select Cell → Run All).  You can speak with others regarding the assignment but all work must be your own. \n",
    "\n",
    "\n",
    "### This is a 30 point assignment graded from answers to questions and automated tests that should be run at the bottom. Be sure to clearly label all of your answers and commit final tests at the end.  \n"
   ]
  },
  {
   "cell_type": "code",
   "execution_count": 1,
   "metadata": {
    "collapsed": true
   },
   "outputs": [],
   "source": [
    "NAME = \"Jason Kuruzovich\"\n",
    "COLLABORATORS = [\"Alyssa Hacker\"]  #You can speak with others regarding the assignment, but all typed work must be your own."
   ]
  },
  {
   "cell_type": "code",
   "execution_count": null,
   "metadata": {
    "collapsed": true
   },
   "outputs": [],
   "source": [
    "!conda config --add channels conda-forge"
   ]
  },
  {
   "cell_type": "code",
   "execution_count": null,
   "metadata": {
    "collapsed": true
   },
   "outputs": [],
   "source": [
    "!conda install --quiet ipython_unittest"
   ]
  },
  {
   "cell_type": "markdown",
   "metadata": {},
   "source": [
    "### This Loads a Testing Array \n",
    "- This runs tests against your b array.  If you complete the assingment correctly, you will pass the tests. \n",
    "- **If you attempt to fake passing the tests you will receive a 0 on the assignment and it will be considered an ethical violation.**"
   ]
  },
  {
   "cell_type": "code",
   "execution_count": 2,
   "metadata": {
    "collapsed": true
   },
   "outputs": [],
   "source": [
    "%load_ext ipython_unittest\n",
    "#This runs tests against your b array.  If you complete the assingment correctly, you will pass the tests. "
   ]
  },
  {
   "cell_type": "markdown",
   "metadata": {
    "slideshow": {
     "slide_type": "slide"
    }
   },
   "source": [
    "## Exercise-Packages\n",
    "\n",
    "This creates an Numpy array. Numpy is a common package that we will use to work with arrays. You can read more about Numpy [here](http://www.numpy.org/). \n",
    "\n",
    "`a = numpy.array([2,3,4])\n",
    "print(a)`\n",
    "\n",
    "To get this to work, you will have to import the Numpy package.  \n",
    "\n",
    "(1) Verify that Numpy is installed. How did you know?  Describe how you would you install it if it wasn't installed?\n",
    "\n",
    "<Put your answer here.>\n",
    "\n",
    "(2) Provide the code to import numpy so that the code below works.  \n",
    "\n",
    "(3) Import numpy as np and create an array `a2` with values `5,6,7,8`."
   ]
  },
  {
   "cell_type": "code",
   "execution_count": 5,
   "metadata": {},
   "outputs": [
    {
     "name": "stdout",
     "output_type": "stream",
     "text": [
      "[2 3 4]\n"
     ]
    },
    {
     "data": {
      "text/plain": [
       "numpy.ndarray"
      ]
     },
     "execution_count": 5,
     "metadata": {},
     "output_type": "execute_result"
    }
   ],
   "source": [
    "import numpy\n",
    "a = numpy.array([2,3,4])\n",
    "print(a)\n",
    "type(a)"
   ]
  },
  {
   "cell_type": "code",
   "execution_count": 4,
   "metadata": {},
   "outputs": [
    {
     "name": "stdout",
     "output_type": "stream",
     "text": [
      "[5 6 7 8]\n"
     ]
    }
   ],
   "source": [
    "\n",
    "a = numpy.array([5,6,7,8])\n",
    "print(a)"
   ]
  },
  {
   "cell_type": "markdown",
   "metadata": {},
   "source": [
    "## Exercise - Operations on Variables\n",
    "\n",
    "(4) Describe what happens when you multiply an integer times a boolean? What is the resulting type? Provide examples.\n",
    "\n",
    "(5) Describe happens when you try to multiply an integer value times a null?\n",
    "\n",
    "(6) Take 5 to the power of 4 and assign it to a variable `a3`. "
   ]
  },
  {
   "cell_type": "code",
   "execution_count": null,
   "metadata": {
    "collapsed": true
   },
   "outputs": [],
   "source": [
    "%%unittest_main\n",
    "class TestPackages(unittest.TestCase):\n",
    "    def test_packages1(self):\n",
    "        self.assertTrue((a == np.array([2,3,4])).all())\n",
    "    def test_packages2(self):\n",
    "        self.assertTrue((a2 == np.array([5,6,7,8])).all())\n",
    "    def test_variables(self):\n",
    "        self.assertTrue(a3 == 625)"
   ]
  },
  {
   "cell_type": "markdown",
   "metadata": {},
   "source": [
    "## Exercise-Lists\n",
    "Hint: [This list of functions on lists is useful.](https://docs.python.org/3/tutorial/datastructures.html)\n",
    "\n",
    "(7) Create a list `elists1` with the following values (1,2,3,4,5).<br>\n",
    "\n",
    "(8) Create a new list `elists2` by first creating a copy of `elist1` and then reversing the order.<br>\n",
    "\n",
    "(9) Create a new list `elists3` by first creating a copy of `elist1` and then adding 7 8 9 to the end. *(Hint: Search for a different function if appending doesn't work.)* <br>\n",
    "\n",
    "(10) Create a new list `elists4` by first creating a copy of `elist3` and then insert 6 between 5 and 7. \n",
    "\n",
    "\n",
    "\n",
    "\n"
   ]
  },
  {
   "cell_type": "code",
   "execution_count": null,
   "metadata": {
    "collapsed": true
   },
   "outputs": [],
   "source": [
    "%%unittest_main\n",
    "class TestLists(unittest.TestCase):\n",
    "    def test_list1(self):\n",
    "        self.assertTrue(elists1 == [1,2,3,4,5])\n",
    "    def test_list1b(self):\n",
    "        self.assertTrue(type(elists1) == type([1,2,3,4,5]))\n",
    "    def test_list2b(self):\n",
    "        self.assertTrue(elists2 == [5,4,3,2,1])\n",
    "    def test_list3(self):\n",
    "        self.assertTrue(elists3 == [1,2,3,4,5,7,8,9])\n",
    "    def test_list4(self):\n",
    "        self.assertTrue(elists4 == [1,2,3,4,5,6,7,8,9])\n"
   ]
  },
  {
   "cell_type": "markdown",
   "metadata": {},
   "source": [
    "## Exercise-Sets/Dictionary\n",
    "Hint: [This list of functions on lists is useful.](https://docs.python.org/3/tutorial/datastructures.html)\n",
    "\n",
    "(11) Create a set `eset1` with the following values (1,2,3,4,5).\n",
    "\n",
    "(12) Create a new set `eset2` the following values (1,3,6).\n",
    "\n",
    "(13) Create a new set `eset3` that is `eset1-eset2`.\n",
    "\n",
    "(14) Create a new set `eset4` that is the union of `eset1+eset2`.\n",
    "\n",
    "(15) Create a new set `eset5` that includes values that are in both `eset1` and `eset2` (intersection).\n",
    "\n",
    "(16) Create a new dict `edict1` with the following keys and associated values: st1=45; st2=32; st3=40; st4=31.\n",
    "\n",
    "(17) Create a new variable edict2 from edict 1 where the key is st3."
   ]
  },
  {
   "cell_type": "code",
   "execution_count": null,
   "metadata": {
    "collapsed": true
   },
   "outputs": [],
   "source": [
    "%%unittest_main\n",
    "class TestSetsDicts(unittest.TestCase):\n",
    "    def test_sets1(self):\n",
    "        self.assertTrue(eset1 == {1,2,3,4,5})\n",
    "    def test_sets1b(self):\n",
    "        self.assertTrue(type(eset1) == type({1,2,3,4,5}))\n",
    "    def test_sets2b(self):\n",
    "         self.assertTrue(eset2 == {1,3,6})\n",
    "    def test_sets3(self):\n",
    "        self.assertTrue(eset3 == {2,4,5})\n",
    "    def test_set4(self):\n",
    "        self.assertTrue(eset4 == {1,2,3,4,5,6})\n",
    "    def test_set5(self):\n",
    "        self.assertTrue(eset5 == {1,3})\n",
    "    def test_dict1(self):\n",
    "        self.assertTrue(edict1 == {'st1' : 45, 'st2' : 32, 'st3' : 40, 'st4' : 31})\n",
    "    def test_dict1b(self):\n",
    "        self.assertTrue(type(edict1) == type({'st1' : 45, 'st2' : 32, 'st3' : 40, 'st4' : 31}))\n",
    "    def test_dict2(self):\n",
    "        self.assertTrue(edict2 == 40)\n",
    "\n"
   ]
  },
  {
   "cell_type": "markdown",
   "metadata": {},
   "source": [
    "# Exercise-Numpy Array\n",
    "\n",
    "(18) Create a new numpy array `nparray1` that is 3x3 and all the number 3 (should be integer type).\n",
    "\n",
    "(19) Create a new variable `nparray1sum` that sums all of column 0.\n",
    "\n",
    "(20) Create a new variable `nparray1mean` that takes the average of column 0. \n",
    "\n",
    "(21) Create a new numpy array `nparray2` that selects only column 1 of `nparray1`.\n",
    "\n",
    "(22) Create a new numpy array `nparray3` that is equal to `nparray1` times 2 (you should not alter `nparray1`).\n",
    "\n",
    "(23) Create a new numpy array `nparray4` that is a verticle stack of `nparray1` and `nparray3`. "
   ]
  },
  {
   "cell_type": "code",
   "execution_count": null,
   "metadata": {
    "collapsed": true
   },
   "outputs": [],
   "source": [
    "%%unittest_main\n",
    "class TestNumpy(unittest.TestCase):\n",
    "    def test_numpy1(self):\n",
    "        self.assertTrue((nparray1 == np.full((3, 3), 3, dtype=int)).all())\n",
    "    def test_numpy2(self):\n",
    "         self.assertTrue(nparray1sum == 9)\n",
    "    def test_numpy3(self):\n",
    "        self.assertTrue(nparray1mean == 3.0)\n",
    "    def test_numpy4(self):\n",
    "        self.assertTrue((nparray2 == np.array([3,3,3])).all())\n",
    "    def test_numpy5(self):\n",
    "        self.assertTrue((nparray3 == np.full((3, 3), 6, dtype=int)).all())\n",
    "    def test_numpy6(self):\n",
    "        stacked=np.array([3,3,3,3,3,3,3,3,3,6,6,6,6,6,6,6,6,6]).reshape(6,3)\n",
    "        self.assertTrue((nparray4 == stacked).all())\n"
   ]
  },
  {
   "cell_type": "markdown",
   "metadata": {},
   "source": [
    "## Exercise-Pandas\n",
    "(24) Using, the Iris dataset, find the mean of the sepal_length and assign it to the `sepal_length_mean` variable using the dataframe returned from the describe command.  \n",
    "\n",
    "(25) Create a new dataframe `iristrain` that includes the first 75 rows of the iris dataframe.\n",
    "\n",
    "(26) Create a new dataframe `iristest` that includes the last 75 rows of the iris dataframe.\n",
    "\n",
    "(27) Create a new series `sepal_length` from the `sepal_length` column of the iris dataframe. \n",
    "\n"
   ]
  },
  {
   "cell_type": "code",
   "execution_count": null,
   "metadata": {
    "collapsed": true
   },
   "outputs": [],
   "source": [
    "%%unittest_main\n",
    "class TestPandas(unittest.TestCase):\n",
    "    def test_pandas1(self):\n",
    "        self.assertAlmostEqual(sepal_length_mean, 5.8433333333333337)\n",
    "    def test_pandas2(self):\n",
    "        self.assertTrue(iristrain.describe().sepal_length['count'] == 75.0)\n",
    "    def test_pandas3(self):\n",
    "        self.assertTrue(iristest.describe().sepal_length['count'] == 75.0)\n",
    "    def test_pandas4(self):\n",
    "        self.assertAlmostEqual(iristrain.describe().sepal_length['std'], 0.63842994352770832)\n",
    "    def test_pandas5(self):\n",
    "        self.assertAlmostEqual(iristest.describe().sepal_length['std'], 0.67988340282833903)\n",
    "    def test_pandas6(self):\n",
    "        self.assertAlmostEqual(sepal_length[134], 6.0999999999999996)\n",
    "\n"
   ]
  },
  {
   "cell_type": "markdown",
   "metadata": {
    "collapsed": true
   },
   "source": [
    "## Run these Tests before Submission\n",
    "This is a collection of all of the tests from the exercises above which will be used for grading.  "
   ]
  },
  {
   "cell_type": "code",
   "execution_count": null,
   "metadata": {
    "collapsed": true
   },
   "outputs": [],
   "source": [
    "%%unittest_main\n",
    "class TestAll(unittest.TestCase):\n",
    "    def test_packages1(self):\n",
    "        self.assertTrue((a == np.array([2,3,4])).all())\n",
    "    def test_packages2(self):\n",
    "        self.assertTrue((a2 == np.array([5,6,7,8])).all())\n",
    "    def test_variables(self):\n",
    "        self.assertTrue(a3 == 625)\n",
    "    def test_list1(self):\n",
    "        self.assertTrue(elists1 == [1,2,3,4,5])\n",
    "    def test_list1b(self):\n",
    "        self.assertTrue(type(elists1) == type([1,2,3,4,5]))\n",
    "    def test_list2b(self):\n",
    "        self.assertTrue(elists2 == [5,4,3,2,1])\n",
    "    def test_list3(self):\n",
    "        self.assertTrue(elists3 == [1,2,3,4,5,7,8,9])\n",
    "    def test_list4(self):\n",
    "        self.assertTrue(elists4 == [1,2,3,4,5,6,7,8,9]) \n",
    "    def test_sets1(self):\n",
    "        self.assertTrue(eset1 == {1,2,3,4,5})\n",
    "    def test_sets1b(self):\n",
    "        self.assertTrue(type(eset1) == type({1,2,3,4,5}))\n",
    "    def test_sets2b(self):\n",
    "         self.assertTrue(eset2 == {1,3,6})\n",
    "    def test_sets3(self):\n",
    "        self.assertTrue(eset3 == {2,4,5})\n",
    "    def test_set4(self):\n",
    "        self.assertTrue(eset4 == {1,2,3,4,5,6})\n",
    "    def test_set5(self):\n",
    "        self.assertTrue(eset5 == {1,3})\n",
    "    def test_dict1(self):\n",
    "        self.assertTrue(edict1 == {'st1' : 45, 'st2' : 32, 'st3' : 40, 'st4' : 31})\n",
    "    def test_dict1b(self):\n",
    "        self.assertTrue(type(edict1) == type({'st1' : 45, 'st2' : 32, 'st3' : 40, 'st4' : 31}))\n",
    "    def test_dict2(self):\n",
    "        self.assertTrue(edict2 == 40)\n",
    "    def test_numpy1(self):\n",
    "        self.assertTrue((nparray1 == np.full((3, 3), 3, dtype=int)).all())\n",
    "    def test_numpy2(self):\n",
    "         self.assertTrue(nparray1sum == 9)\n",
    "    def test_numpy3(self):\n",
    "        self.assertTrue(nparray1mean == 3.0)\n",
    "    def test_numpy4(self):\n",
    "        self.assertTrue((nparray2 == np.array([3,3,3])).all())\n",
    "    def test_numpy5(self):\n",
    "        self.assertTrue((nparray3 == np.full((3, 3), 6, dtype=int)).all())\n",
    "    def test_numpy6(self):\n",
    "        stacked=np.array([3,3,3,3,3,3,3,3,3,6,6,6,6,6,6,6,6,6]).reshape(6,3)\n",
    "        self.assertTrue((nparray4 == stacked).all())\n",
    "    def test_pandas1(self):\n",
    "        self.assertAlmostEqual(sepal_length_mean, 5.8433333333333337)\n",
    "    def test_pandas2(self):\n",
    "        self.assertTrue(iristrain.describe().sepal_length['count'] == 75.0)\n",
    "    def test_pandas3(self):\n",
    "        self.assertTrue(iristest.describe().sepal_length['count'] == 75.0)\n",
    "    def test_pandas4(self):\n",
    "        self.assertAlmostEqual(iristrain.describe().sepal_length['std'], 0.63842994352770832)\n",
    "    def test_pandas5(self):\n",
    "        self.assertAlmostEqual(iristest.describe().sepal_length['std'], 0.67988340282833903)\n",
    "    def test_pandas6(self):\n",
    "        self.assertAlmostEqual(sepal_length[134], 6.0999999999999996)"
   ]
  }
 ],
 "metadata": {
  "anaconda-cloud": {},
  "celltoolbar": "Slideshow",
  "kernelspec": {
   "display_name": "Python [Root]",
   "language": "python",
   "name": "Python [Root]"
  },
  "language_info": {
   "codemirror_mode": {
    "name": "ipython",
    "version": 3
   },
   "file_extension": ".py",
   "mimetype": "text/x-python",
   "name": "python",
   "nbconvert_exporter": "python",
   "pygments_lexer": "ipython3",
   "version": "3.5.2"
  }
 },
 "nbformat": 4,
 "nbformat_minor": 1
}
